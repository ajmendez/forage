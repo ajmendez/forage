{
 "metadata": {
  "name": "",
  "signature": "sha256:b4e9e1dc303194513116a385d43cb0ab8fd4791b023e7a87f58d6225d9d24861"
 },
 "nbformat": 3,
 "nbformat_minor": 0,
 "worksheets": [
  {
   "cells": [
    {
     "cell_type": "code",
     "collapsed": false,
     "input": [
      "import os, sys, time\n",
      "sys.path.append(os.path.expanduser('~/dev/feedly/FeedlyClient'))\n",
      "import client\n",
      "reload(client)\n",
      "import requests\n",
      "from pprint import pprint\n",
      "from datetime import datetime\n",
      "from pymendez.auth import auth\n",
      "\n"
     ],
     "language": "python",
     "metadata": {},
     "outputs": [],
     "prompt_number": 77
    },
    {
     "cell_type": "code",
     "collapsed": false,
     "input": [
      "#help(client)\n",
      "REDIRECT_URL = 'http://localhost'\n",
      "\n",
      "# sandbox\n",
      "ident,secret,code,refresh,token,userid = auth('feedly', ['client_id', 'client_secret','code','refresh','token','ident'])\n",
      "api = client.FeedlyClient(client_id=ident, \n",
      "                          client_secret=secret,)\n",
      "# print api.get_code_url(REDIRECT_URL)\n",
      "# api.get_access_token(REDIRECT_URL, code)\n",
      "# print api.refresh_access_token(refresh)"
     ],
     "language": "python",
     "metadata": {},
     "outputs": [],
     "prompt_number": 78
    },
    {
     "cell_type": "code",
     "collapsed": false,
     "input": [
      "def dev_login():\n",
      "    dev_ident, dev_token = auth('feedly', ['dev_ident', 'dev_token'])\n",
      "    api = client.FeedlyClient(access_token=dev_token,\n",
      "                              sandbox=False)\n",
      "#     pprint(api.get_user_subscriptions(dev_token))\n",
      "dev_login()"
     ],
     "language": "python",
     "metadata": {},
     "outputs": [],
     "prompt_number": 92
    },
    {
     "cell_type": "code",
     "collapsed": false,
     "input": [
      "dev_ident, dev_token = auth('feedly', ['dev_ident', 'dev_token'])\n",
      "url = 'http://cloud.feedly.com/v3/streams/contents'\n",
      "headers = {'Authorization':'OAuth {}'.format(dev_token)}\n",
      "params = {'streamId':'user/{}/tag/global.read'.format(dev_ident)}\n",
      "response = requests.get(url, params=params, headers=headers)\n",
      "data = response.json()\n",
      "print len(data['items'])\n",
      "# data\n"
     ],
     "language": "python",
     "metadata": {},
     "outputs": [
      {
       "output_type": "stream",
       "stream": "stdout",
       "text": [
        "20\n"
       ]
      }
     ],
     "prompt_number": 93
    },
    {
     "cell_type": "code",
     "collapsed": false,
     "input": [
      "item = 'user/%s/category/global.all'%userid\n",
      "item = 'user/%s/tag/global.read'%userid\n",
      "x = api.get_feed_content(token,item,False,None)"
     ],
     "language": "python",
     "metadata": {},
     "outputs": [],
     "prompt_number": 51
    },
    {
     "cell_type": "code",
     "collapsed": false,
     "input": [
      "x['items'][0].keys()"
     ],
     "language": "python",
     "metadata": {},
     "outputs": [
      {
       "metadata": {},
       "output_type": "pyout",
       "prompt_number": 58,
       "text": [
        "[u'origin',\n",
        " u'title',\n",
        " u'crawled',\n",
        " u'alternate',\n",
        " u'summary',\n",
        " u'fingerprint',\n",
        " u'id',\n",
        " u'actionTimestamp',\n",
        " u'unread',\n",
        " u'originId',\n",
        " u'tags',\n",
        " u'published']"
       ]
      }
     ],
     "prompt_number": 58
    },
    {
     "cell_type": "code",
     "collapsed": false,
     "input": [],
     "language": "python",
     "metadata": {},
     "outputs": []
    }
   ],
   "metadata": {}
  }
 ]
}