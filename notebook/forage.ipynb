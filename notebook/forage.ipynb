{
 "metadata": {
  "name": "",
  "signature": "sha256:2397f2de555543acc18ba77771f52f742771a45089130fb12a68f23dc867f515"
 },
 "nbformat": 3,
 "nbformat_minor": 0,
 "worksheets": [
  {
   "cells": [
    {
     "cell_type": "code",
     "collapsed": false,
     "input": [
      "import os, sys, time\n",
      "sys.path.append(os.path.expanduser('~/dev/feedly/FeedlyClient'))\n",
      "import client\n",
      "reload(client)\n",
      "import json\n",
      "import requests\n",
      "from pprint import pprint\n",
      "from datetime import datetime\n",
      "from pymendez.auth import auth"
     ],
     "language": "python",
     "metadata": {},
     "outputs": [],
     "prompt_number": 100
    },
    {
     "cell_type": "code",
     "collapsed": false,
     "input": [
      "#help(client)\n",
      "REDIRECT_URL = 'http://localhost'\n",
      "\n",
      "# sandbox\n",
      "ident,secret,code,refresh,token,userid = auth('feedly', ['client_id', 'client_secret','code','refresh','token','ident'])\n",
      "api = client.FeedlyClient(client_id=ident, \n",
      "                          client_secret=secret,)\n",
      "# print api.get_code_url(REDIRECT_URL)\n",
      "# api.get_access_token(REDIRECT_URL, code)\n",
      "# print api.refresh_access_token(refresh)\n",
      "\n",
      "# item = 'user/%s/category/global.all'%userid\n",
      "# item = 'user/%s/tag/global.read'%userid\n",
      "# x = api.get_feed_content(token,item,False,None)"
     ],
     "language": "python",
     "metadata": {},
     "outputs": [],
     "prompt_number": 78
    },
    {
     "cell_type": "code",
     "collapsed": false,
     "input": [
      "def dev_login():\n",
      "    dev_ident, dev_token = auth('feedly', ['dev_ident', 'dev_token'])\n",
      "    api = client.FeedlyClient(access_token=dev_token,\n",
      "                              sandbox=False)\n",
      "#     pprint(api.get_user_subscriptions(dev_token))\n",
      "dev_login()"
     ],
     "language": "python",
     "metadata": {},
     "outputs": [],
     "prompt_number": 92
    },
    {
     "cell_type": "code",
     "collapsed": false,
     "input": [
      "dev_ident, dev_token = auth('feedly', ['dev_ident', 'dev_token'])\n",
      "url = 'http://cloud.feedly.com/v3/streams/contents'\n",
      "headers = {'Authorization':'OAuth {}'.format(dev_token)}\n",
      "params = {'streamId':'user/{}/tag/global.read'.format(dev_ident)}\n",
      "response = requests.get(url, params=params, headers=headers)\n",
      "data = response.json()\n",
      "print len(data['items'])\n",
      "# data\n"
     ],
     "language": "python",
     "metadata": {},
     "outputs": [
      {
       "output_type": "stream",
       "stream": "stdout",
       "text": [
        "20\n"
       ]
      }
     ],
     "prompt_number": 115
    },
    {
     "cell_type": "code",
     "collapsed": false,
     "input": [
      "params = {'streamId':'user/{}/tag/global.read'.format(dev_ident),\n",
      "          'continuation':data['continuation'],\n",
      "          'count':1000}\n",
      "response2 = requests.get(url, params=params, headers=headers)\n",
      "data2 = response2.json()"
     ],
     "language": "python",
     "metadata": {},
     "outputs": [],
     "prompt_number": 111
    },
    {
     "cell_type": "code",
     "collapsed": false,
     "input": [
      "len(data2['items'])"
     ],
     "language": "python",
     "metadata": {},
     "outputs": [
      {
       "metadata": {},
       "output_type": "pyout",
       "prompt_number": 112,
       "text": [
        "1000"
       ]
      }
     ],
     "prompt_number": 112
    },
    {
     "cell_type": "code",
     "collapsed": false,
     "input": [
      "# pprint([d['title'] for d in data['items']])\n",
      "# pprint([d['title'] for d in data2['items']])"
     ],
     "language": "python",
     "metadata": {},
     "outputs": [],
     "prompt_number": 114
    },
    {
     "cell_type": "code",
     "collapsed": false,
     "input": [
      "data['items'][0].keys()"
     ],
     "language": "python",
     "metadata": {},
     "outputs": [
      {
       "metadata": {},
       "output_type": "pyout",
       "prompt_number": 108,
       "text": [
        "[u'origin',\n",
        " u'title',\n",
        " u'crawled',\n",
        " u'alternate',\n",
        " u'summary',\n",
        " u'published',\n",
        " u'visual',\n",
        " u'originId',\n",
        " u'fingerprint',\n",
        " u'actionTimestamp',\n",
        " u'unread',\n",
        " u'id',\n",
        " u'tags',\n",
        " u'canonical']"
       ]
      }
     ],
     "prompt_number": 108
    },
    {
     "cell_type": "code",
     "collapsed": false,
     "input": [],
     "language": "python",
     "metadata": {},
     "outputs": []
    }
   ],
   "metadata": {}
  }
 ]
}